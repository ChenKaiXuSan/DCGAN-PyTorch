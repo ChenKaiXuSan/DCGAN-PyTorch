{
 "cells": [
  {
   "cell_type": "code",
   "execution_count": 17,
   "metadata": {},
   "outputs": [],
   "source": [
    "from cleanfid import fid "
   ]
  },
  {
   "cell_type": "code",
   "execution_count": 2,
   "metadata": {},
   "outputs": [
    {
     "data": {
      "text/plain": [
       "'/home/xchen/GANs/DCGAN-PyTorch'"
      ]
     },
     "execution_count": 2,
     "metadata": {},
     "output_type": "execute_result"
    }
   ],
   "source": [
    "pwd"
   ]
  },
  {
   "cell_type": "code",
   "execution_count": 25,
   "metadata": {},
   "outputs": [],
   "source": [
    "# real_path = './samples/1026_cifar10_10kepochs_hatano/9900/real_images'\n",
    "fake_path = \"samples/1126_mnist_100kepochs_hatano/27900/fake_images\"\n",
    "# score = fid.compute_fid(fake_path, dataset_name='cifar10', dataset_res=32, dataset_split='train')\n",
    "# score1 = fid.compute_fid(fake_path, real_path)"
   ]
  },
  {
   "cell_type": "code",
   "execution_count": 4,
   "metadata": {},
   "outputs": [],
   "source": [
    "from models.dcgan import Generator, Discriminator\n",
    "import torch\n",
    "from utils.utils import  *"
   ]
  },
  {
   "cell_type": "code",
   "execution_count": 5,
   "metadata": {},
   "outputs": [],
   "source": [
    "G = Generator().cuda()"
   ]
  },
  {
   "cell_type": "code",
   "execution_count": 6,
   "metadata": {},
   "outputs": [],
   "source": [
    "PATH = \"/home/xchen/GANs/DCGAN-PyTorch/checkpoint/1210_mnist_bs64_10kepochs_hatano/9000_G.pth.tar\"\n",
    "\n",
    "checkpoint = torch.load(PATH)"
   ]
  },
  {
   "cell_type": "code",
   "execution_count": 7,
   "metadata": {},
   "outputs": [
    {
     "data": {
      "text/plain": [
       "dict_keys(['epoch', 'G_state_dict', 'loss'])"
      ]
     },
     "execution_count": 7,
     "metadata": {},
     "output_type": "execute_result"
    }
   ],
   "source": [
    "checkpoint.keys()"
   ]
  },
  {
   "cell_type": "code",
   "execution_count": 8,
   "metadata": {},
   "outputs": [
    {
     "data": {
      "text/plain": [
       "<All keys matched successfully>"
      ]
     },
     "execution_count": 8,
     "metadata": {},
     "output_type": "execute_result"
    }
   ],
   "source": [
    "G.load_state_dict(checkpoint['G_state_dict'])"
   ]
  },
  {
   "cell_type": "code",
   "execution_count": 9,
   "metadata": {},
   "outputs": [],
   "source": [
    "G.eval()\n",
    "\n",
    "# fixed noise \n",
    "fixed_z = tensor2var(torch.randn(10, 100, 1, 1)) # (10000, 100, 1, 1)\n",
    "\n",
    "fake_images = G(fixed_z)"
   ]
  },
  {
   "cell_type": "code",
   "execution_count": 11,
   "metadata": {},
   "outputs": [],
   "source": [
    "# sphinx_gallery_thumbnail_path = \"../../gallery/assets/visualization_utils_thumbnail.png\"\n",
    "\n",
    "import torch\n",
    "import numpy as np\n",
    "import matplotlib.pyplot as plt\n",
    "\n",
    "import torchvision.transforms.functional as F\n",
    "\n",
    "\n",
    "plt.rcParams[\"savefig.bbox\"] = 'tight'\n",
    "\n",
    "\n",
    "def show(imgs):\n",
    "    if not isinstance(imgs, list):\n",
    "        imgs = [imgs]\n",
    "    fix, axs = plt.subplots(ncols=len(imgs), squeeze=False)\n",
    "    for i, img in enumerate(imgs):\n",
    "        img = img.detach()\n",
    "        img = F.to_pil_image(img)\n",
    "        axs[0, i].imshow(np.asarray(img))\n",
    "        axs[0, i].set(xticklabels=[], yticklabels=[], xticks=[], yticks=[])"
   ]
  },
  {
   "cell_type": "code",
   "execution_count": 16,
   "metadata": {},
   "outputs": [
    {
     "data": {
      "image/png": "[encoded data removed]",
      "text/plain": [
       "<Figure size 432x288 with 1 Axes>"
      ]
     },
     "metadata": {},
     "output_type": "display_data"
    }
   ],
   "source": [
    "from torchvision.utils import make_grid\n",
    "from torchvision.io import  read_image\n",
    "\n",
    "\n",
    "grid = make_grid(fake_images, normalize=True)\n",
    "show(grid)"
   ]
  },
  {
   "cell_type": "code",
   "execution_count": 20,
   "metadata": {},
   "outputs": [
    {
     "name": "stdout",
     "output_type": "stream",
     "text": [
      "Found 10080 images in the folder /home/xchen/GANs/DCGAN-PyTorch/samples/1126_mnist_100kepochs_hatano/28000/real_images\n"
     ]
    },
    {
     "name": "stderr",
     "output_type": "stream",
     "text": [
      "custom stats: real_images :   0%|          | 0/158 [00:00<?, ?it/s]/home/xchen/anaconda3/lib/python3.7/site-packages/cleanfid/inception_torchscript.py:55: UserWarning: Named tensors and all their associated APIs are an experimental feature and subject to change. Please do not use them for anything important until they are released as stable. (Triggered internally at  /pytorch/c10/core/TensorImpl.h:1156.)\n",
      "  features = self.layers.forward(x2, ).view((bs, 2048))\n",
      "custom stats: real_images : 100%|██████████| 158/158 [03:42<00:00,  1.41s/it]\n"
     ]
    },
    {
     "name": "stdout",
     "output_type": "stream",
     "text": [
      "saving custom FID stats to /home/xchen/anaconda3/lib/python3.7/site-packages/cleanfid/stats/mnist_clean_custom_na.npz\n",
      "saving custom KID stats to /home/xchen/anaconda3/lib/python3.7/site-packages/cleanfid/stats/mnist_clean_custom_na_kid.npz\n"
     ]
    }
   ],
   "source": [
    "fid.make_custom_stats(\"mnist\", \"/home/xchen/GANs/DCGAN-PyTorch/samples/1126_mnist_100kepochs_hatano/28000/real_images\", mode=\"clean\")"
   ]
  },
  {
   "cell_type": "code",
   "execution_count": 26,
   "metadata": {},
   "outputs": [
    {
     "name": "stdout",
     "output_type": "stream",
     "text": [
      "compute FID of a folder with mnist statistics\n"
     ]
    },
    {
     "name": "stderr",
     "output_type": "stream",
     "text": [
      "/home/xchen/anaconda3/lib/python3.7/site-packages/torch/utils/data/dataloader.py:481: UserWarning: This DataLoader will create 12 worker processes in total. Our suggested max number of worker in current system is 8, which is smaller than what this DataLoader is going to create. Please be aware that excessive worker creation might get DataLoader running slow or even freeze, lower the worker number to avoid potential slowness/freeze if necessary.\n",
      "  cpuset_checked))\n"
     ]
    },
    {
     "name": "stdout",
     "output_type": "stream",
     "text": [
      "Found 10080 images in the folder samples/1126_mnist_100kepochs_hatano/27900/fake_images\n"
     ]
    },
    {
     "name": "stderr",
     "output_type": "stream",
     "text": [
      "FID fake_images : 100%|██████████| 315/315 [00:18<00:00, 16.75it/s]\n"
     ]
    },
    {
     "name": "stdout",
     "output_type": "stream",
     "text": [
      "134.0361641604859\n"
     ]
    }
   ],
   "source": [
    "score = fid.compute_fid(fake_path, dataset_name=\"mnist\", mode=\"clean\", dataset_split=\"custom\")\n",
    "\n",
    "print(score)"
   ]
  }
 ],
 "metadata": {
  "interpreter": {
   "hash": "74a93dc98ce132c7712e91561fec933a3a7586bb1208e240d679dc2b0a82ea21"
  },
  "kernelspec": {
   "display_name": "Python 3.7.10 64-bit ('base': conda)",
   "name": "python3"
  },
  "language_info": {
   "codemirror_mode": {
    "name": "ipython",
    "version": 3
   },
   "file_extension": ".py",
   "mimetype": "text/x-python",
   "name": "python",
   "nbconvert_exporter": "python",
   "pygments_lexer": "ipython3",
   "version": "3.7.10"
  },
  "orig_nbformat": 4
 },
 "nbformat": 4,
 "nbformat_minor": 2
}
